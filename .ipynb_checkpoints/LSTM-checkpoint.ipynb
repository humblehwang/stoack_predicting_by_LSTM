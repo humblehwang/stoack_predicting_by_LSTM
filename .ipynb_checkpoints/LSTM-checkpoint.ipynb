{
 "cells": [
  {
   "cell_type": "code",
   "execution_count": 2223,
   "metadata": {},
   "outputs": [],
   "source": [
    "record = []"
   ]
  },
  {
   "cell_type": "code",
   "execution_count": 2860,
   "metadata": {},
   "outputs": [],
   "source": [
    "\n",
    "#https://medium.com/@daniel820710/%E5%88%A9%E7%94%A8keras%E5%BB%BA%E6%A7%8Blstm%E6%A8%A1%E5%9E%8B-%E4%BB%A5stock-prediction-%E7%82%BA%E4%BE%8B-1-67456e0a0b\n",
    "# LSTM for international airline passengers problem with regression framing\n",
    "import numpy as np\n",
    "import pandas as pd\n",
    "import matplotlib.pyplot as plt\n",
    "from pandas import read_csv\n",
    "import math\n",
    "from keras.models import Sequential\n",
    "from keras.layers import Dense\n",
    "from keras.layers import LSTM,Flatten\n",
    "from sklearn.preprocessing import MinMaxScaler\n",
    "from sklearn.metrics import mean_squared_error\n",
    "\n"
   ]
  },
  {
   "cell_type": "code",
   "execution_count": null,
   "metadata": {},
   "outputs": [],
   "source": []
  },
  {
   "cell_type": "code",
   "execution_count": 2861,
   "metadata": {},
   "outputs": [],
   "source": [
    "non_target = 'eur_ask'\n",
    "target = 'eur_bid'"
   ]
  },
  {
   "cell_type": "code",
   "execution_count": 2862,
   "metadata": {},
   "outputs": [],
   "source": [
    "\"\"\"\n",
    "train data with GPU\n",
    "\"\"\"\n",
    "import os\n",
    "\n",
    "os.environ[\"CUDA_DEVICE_ORDER\"]=\"PCI_BUS_ID\"   \n",
    "os.environ[\"CUDA_VISIBLE_DEVICES\"]=\"0\""
   ]
  },
  {
   "cell_type": "code",
   "execution_count": 2942,
   "metadata": {},
   "outputs": [],
   "source": [
    "pastDay=1\n",
    "futureDay=1\n",
    "epochs = 50"
   ]
  },
  {
   "cell_type": "code",
   "execution_count": 2943,
   "metadata": {},
   "outputs": [],
   "source": [
    "# Import the training set\n",
    "data = pd.read_csv('data.csv')  # 讀取訓練集"
   ]
  },
  {
   "cell_type": "code",
   "execution_count": 2944,
   "metadata": {},
   "outputs": [],
   "source": [
    "data = data.drop('1',1)\n",
    "data =data.drop(non_target,1)\n",
    "data =data.drop('D',1)\n",
    "data =data.drop('GDP',1)\n",
    "data =data.drop('SP500',1)\n",
    "data =data.drop('EPU-EUR',1)\n",
    "data =data.drop('TPU-CH',1)\n",
    "data =data.drop('CBA-EUR',1)\n",
    "data = data.drop('OIL-F',1)\n",
    "data = data.drop('GOLD-F',1)\n",
    "#data = data.drop('EUR-I',1)"
   ]
  },
  {
   "cell_type": "code",
   "execution_count": 2945,
   "metadata": {},
   "outputs": [],
   "source": [
    "train = data[data.Date<'2019-01-01']\n",
    "test = data[len(train)-pastDay:]\n",
    "train = train.drop('Date',1)\n",
    "test = test.drop('Date',1)\n"
   ]
  },
  {
   "cell_type": "code",
   "execution_count": 2946,
   "metadata": {},
   "outputs": [
    {
     "data": {
      "text/plain": [
       "Index(['eur_bid', 'EUR-I'], dtype='object')"
      ]
     },
     "execution_count": 2946,
     "metadata": {},
     "output_type": "execute_result"
    }
   ],
   "source": [
    "test.columns"
   ]
  },
  {
   "cell_type": "code",
   "execution_count": 2947,
   "metadata": {},
   "outputs": [
    {
     "data": {
      "text/plain": [
       "Index(['eur_bid', 'EUR-I'], dtype='object')"
      ]
     },
     "execution_count": 2947,
     "metadata": {},
     "output_type": "execute_result"
    }
   ],
   "source": [
    "train.columns"
   ]
  },
  {
   "cell_type": "code",
   "execution_count": 2948,
   "metadata": {},
   "outputs": [],
   "source": [
    "train = train.apply(lambda x: (x - np.mean(x)) / (np.max(x) - np.min(x)))"
   ]
  },
  {
   "cell_type": "code",
   "execution_count": 2949,
   "metadata": {},
   "outputs": [],
   "source": [
    "train_eur_bid = train[target]"
   ]
  },
  {
   "cell_type": "code",
   "execution_count": 2950,
   "metadata": {},
   "outputs": [],
   "source": [
    "train = train.drop(target,1)"
   ]
  },
  {
   "cell_type": "code",
   "execution_count": 2951,
   "metadata": {},
   "outputs": [],
   "source": [
    "train.fillna(0, inplace=True)"
   ]
  },
  {
   "cell_type": "code",
   "execution_count": null,
   "metadata": {},
   "outputs": [],
   "source": []
  },
  {
   "cell_type": "code",
   "execution_count": 2952,
   "metadata": {},
   "outputs": [],
   "source": [
    "\n",
    "X_train = []\n",
    "Y_train = []\n",
    "for i in range(train.shape[0]-futureDay-pastDay):\n",
    "    X_train.append(np.array(train.iloc[i:i+pastDay]))\n",
    "    Y_train.append(float(train_eur_bid.iloc[i+pastDay:i+pastDay+futureDay].values))\n",
    "Y_train = np.array(Y_train)\n",
    "X_train = np.array(X_train) "
   ]
  },
  {
   "cell_type": "code",
   "execution_count": 2953,
   "metadata": {},
   "outputs": [],
   "source": [
    "mean_test = test[target].values.mean()\n",
    "max_test = test[target].values.max()\n",
    "min_test = test[target].values.min()"
   ]
  },
  {
   "cell_type": "code",
   "execution_count": 2956,
   "metadata": {},
   "outputs": [],
   "source": [
    "Y_test = test[target].values\n",
    "Y_test = Y_test[pastDay:]\n",
    "#test = test.drop(\"eur_bid\",1)"
   ]
  },
  {
   "cell_type": "code",
   "execution_count": 2957,
   "metadata": {},
   "outputs": [],
   "source": [
    "test = test.drop('eur_bid',1)"
   ]
  },
  {
   "cell_type": "code",
   "execution_count": 2958,
   "metadata": {},
   "outputs": [],
   "source": [
    "test = test.apply(lambda x: (x - np.mean(x)) / (np.max(x) - np.min(x)))\n",
    "test.fillna(0, inplace=True)\n",
    "\n",
    "\n",
    "X_test = []\n",
    "for j in range(test.shape[0]-pastDay):\n",
    "    X_test.append(np.array(test.iloc[j:j+pastDay]))  \n",
    "X_test = np.array(X_test)"
   ]
  },
  {
   "cell_type": "code",
   "execution_count": null,
   "metadata": {},
   "outputs": [],
   "source": []
  },
  {
   "cell_type": "code",
   "execution_count": 2959,
   "metadata": {},
   "outputs": [
    {
     "data": {
      "text/plain": [
       "((4258, 1, 1), (4258,), (233, 1, 1), (233,))"
      ]
     },
     "execution_count": 2959,
     "metadata": {},
     "output_type": "execute_result"
    }
   ],
   "source": [
    "X_train.shape,Y_train.shape,X_test.shape,Y_test.shape"
   ]
  },
  {
   "cell_type": "code",
   "execution_count": 2901,
   "metadata": {},
   "outputs": [],
   "source": [
    "import keras\n",
    "from keras.models import Sequential\n",
    "from keras.layers import Dense\n",
    "from keras.layers import LSTM\n",
    "from keras.layers import Dropout,BatchNormalization\n",
    "keras.backend.clear_session()\n",
    "regressor = Sequential()\n",
    "regressor.add(LSTM(units = 100,return_sequences=True, input_shape = (X_train.shape[1], X_train.shape[2])))\n",
    "regressor.add(Dropout(0.2))\n",
    "regressor.add(LSTM(units = 100,return_sequences=True, input_shape = (X_train.shape[1], X_train.shape[2])))\n",
    "regressor.add(Dropout(0.2))\n",
    "regressor.add(LSTM(units = 100,return_sequences=True, input_shape = (X_train.shape[1], X_train.shape[2])))\n",
    "regressor.add(Dropout(0.2))\n",
    "regressor.add(LSTM(units = 100,activation='relu',return_sequences = False))\n",
    "regressor.add(Dropout(0.2))\n",
    "\n",
    "\n",
    "regressor.add(Dense(units = 1))\n",
    "regressor.compile(optimizer = 'adam', loss = 'mean_squared_error')\n"
   ]
  },
  {
   "cell_type": "code",
   "execution_count": 2902,
   "metadata": {
    "scrolled": true
   },
   "outputs": [
    {
     "name": "stdout",
     "output_type": "stream",
     "text": [
      "Epoch 1/50\n",
      "4258/4258 [==============================] - 1s 266us/step - loss: 0.0281\n",
      "Epoch 2/50\n",
      "4258/4258 [==============================] - 0s 78us/step - loss: 0.0119\n",
      "Epoch 3/50\n",
      "4258/4258 [==============================] - 0s 77us/step - loss: 0.0117\n",
      "Epoch 4/50\n",
      "4258/4258 [==============================] - 0s 78us/step - loss: 0.0115\n",
      "Epoch 5/50\n",
      "4258/4258 [==============================] - 0s 77us/step - loss: 0.0116\n",
      "Epoch 6/50\n",
      "4258/4258 [==============================] - 0s 78us/step - loss: 0.0116\n",
      "Epoch 7/50\n",
      "4258/4258 [==============================] - 0s 77us/step - loss: 0.0116\n",
      "Epoch 8/50\n",
      "4258/4258 [==============================] - 0s 78us/step - loss: 0.0115\n",
      "Epoch 9/50\n",
      "4258/4258 [==============================] - 0s 78us/step - loss: 0.0113\n",
      "Epoch 10/50\n",
      "4258/4258 [==============================] - 0s 77us/step - loss: 0.0113\n",
      "Epoch 11/50\n",
      "4258/4258 [==============================] - 0s 78us/step - loss: 0.0113\n",
      "Epoch 12/50\n",
      "4258/4258 [==============================] - 0s 78us/step - loss: 0.0114\n",
      "Epoch 13/50\n",
      "4258/4258 [==============================] - 0s 77us/step - loss: 0.0114\n",
      "Epoch 14/50\n",
      "4258/4258 [==============================] - 0s 78us/step - loss: 0.0113\n",
      "Epoch 15/50\n",
      "4258/4258 [==============================] - 0s 78us/step - loss: 0.0113\n",
      "Epoch 16/50\n",
      "4258/4258 [==============================] - 0s 78us/step - loss: 0.0112\n",
      "Epoch 17/50\n",
      "4258/4258 [==============================] - 0s 78us/step - loss: 0.0114\n",
      "Epoch 18/50\n",
      "4258/4258 [==============================] - 0s 77us/step - loss: 0.0112\n",
      "Epoch 19/50\n",
      "4258/4258 [==============================] - 0s 78us/step - loss: 0.0114\n",
      "Epoch 20/50\n",
      "4258/4258 [==============================] - 0s 78us/step - loss: 0.0113\n",
      "Epoch 21/50\n",
      "4258/4258 [==============================] - 0s 77us/step - loss: 0.0112\n",
      "Epoch 22/50\n",
      "4258/4258 [==============================] - 0s 78us/step - loss: 0.0111\n",
      "Epoch 23/50\n",
      "4258/4258 [==============================] - 0s 79us/step - loss: 0.0112\n",
      "Epoch 24/50\n",
      "4258/4258 [==============================] - 0s 77us/step - loss: 0.0112\n",
      "Epoch 25/50\n",
      "4258/4258 [==============================] - 0s 78us/step - loss: 0.0113\n",
      "Epoch 26/50\n",
      "4258/4258 [==============================] - 0s 77us/step - loss: 0.0112\n",
      "Epoch 27/50\n",
      "4258/4258 [==============================] - 0s 77us/step - loss: 0.0114\n",
      "Epoch 28/50\n",
      "4258/4258 [==============================] - 0s 78us/step - loss: 0.0113\n",
      "Epoch 29/50\n",
      "4258/4258 [==============================] - 0s 78us/step - loss: 0.0115\n",
      "Epoch 30/50\n",
      "4258/4258 [==============================] - 0s 77us/step - loss: 0.0112\n",
      "Epoch 31/50\n",
      "4258/4258 [==============================] - 0s 81us/step - loss: 0.0112\n",
      "Epoch 32/50\n",
      "4258/4258 [==============================] - 0s 80us/step - loss: 0.0111\n",
      "Epoch 33/50\n",
      "4258/4258 [==============================] - 0s 80us/step - loss: 0.0111\n",
      "Epoch 34/50\n",
      "4258/4258 [==============================] - 0s 80us/step - loss: 0.0110\n",
      "Epoch 35/50\n",
      "4258/4258 [==============================] - 0s 80us/step - loss: 0.0111\n",
      "Epoch 36/50\n",
      "4258/4258 [==============================] - 0s 79us/step - loss: 0.0110\n",
      "Epoch 37/50\n",
      "4258/4258 [==============================] - 0s 80us/step - loss: 0.0111\n",
      "Epoch 38/50\n",
      "4258/4258 [==============================] - 0s 80us/step - loss: 0.0112\n",
      "Epoch 39/50\n",
      "4258/4258 [==============================] - 0s 80us/step - loss: 0.0112\n",
      "Epoch 40/50\n",
      "4258/4258 [==============================] - 0s 81us/step - loss: 0.0111\n",
      "Epoch 41/50\n",
      "4258/4258 [==============================] - 0s 80us/step - loss: 0.0111\n",
      "Epoch 42/50\n",
      "4258/4258 [==============================] - 0s 79us/step - loss: 0.0111\n",
      "Epoch 43/50\n",
      "4258/4258 [==============================] - 0s 79us/step - loss: 0.0112\n",
      "Epoch 44/50\n",
      "4258/4258 [==============================] - 0s 77us/step - loss: 0.0112\n",
      "Epoch 45/50\n",
      "4258/4258 [==============================] - 0s 78us/step - loss: 0.0111\n",
      "Epoch 46/50\n",
      "4258/4258 [==============================] - 0s 79us/step - loss: 0.0111\n",
      "Epoch 47/50\n",
      "4258/4258 [==============================] - 0s 78us/step - loss: 0.0112\n",
      "Epoch 48/50\n",
      "4258/4258 [==============================] - 0s 78us/step - loss: 0.0112\n",
      "Epoch 49/50\n",
      "4258/4258 [==============================] - 0s 78us/step - loss: 0.0111\n",
      "Epoch 50/50\n",
      "4258/4258 [==============================] - 0s 77us/step - loss: 0.0110\n"
     ]
    }
   ],
   "source": [
    "history = regressor.fit(X_train, Y_train, epochs = epochs, batch_size = 32)\n"
   ]
  },
  {
   "cell_type": "code",
   "execution_count": 2903,
   "metadata": {},
   "outputs": [
    {
     "data": {
      "text/plain": [
       "[<matplotlib.lines.Line2D at 0x7f3b38461d68>]"
      ]
     },
     "execution_count": 2903,
     "metadata": {},
     "output_type": "execute_result"
    },
    {
     "data": {
      "image/png": "[encoded data removed]",
      "text/plain": [
       "<Figure size 432x288 with 1 Axes>"
      ]
     },
     "metadata": {
      "needs_background": "light"
     },
     "output_type": "display_data"
    }
   ],
   "source": [
    "plt.title('train_loss')\n",
    "plt.ylabel('loss')\n",
    "plt.xlabel('Epoch')\n",
    "plt.plot( history.history[\"loss\"])"
   ]
  },
  {
   "cell_type": "code",
   "execution_count": 2904,
   "metadata": {},
   "outputs": [],
   "source": [
    "\"\"\"\n",
    "save the model or not\n",
    "\"\"\"\n",
    "os.environ[\"HDF5_USE_FILE_LOCKING\"] =\"FALSE\"\n",
    "#regressor.save('eur_bid.h5')"
   ]
  },
  {
   "cell_type": "code",
   "execution_count": 2905,
   "metadata": {},
   "outputs": [
    {
     "name": "stdout",
     "output_type": "stream",
     "text": [
      "Model: \"sequential_1\"\n",
      "_________________________________________________________________\n",
      "Layer (type)                 Output Shape              Param #   \n",
      "=================================================================\n",
      "lstm_1 (LSTM)                (None, 1, 100)            40800     \n",
      "_________________________________________________________________\n",
      "dropout_1 (Dropout)          (None, 1, 100)            0         \n",
      "_________________________________________________________________\n",
      "lstm_2 (LSTM)                (None, 1, 100)            80400     \n",
      "_________________________________________________________________\n",
      "dropout_2 (Dropout)          (None, 1, 100)            0         \n",
      "_________________________________________________________________\n",
      "lstm_3 (LSTM)                (None, 1, 100)            80400     \n",
      "_________________________________________________________________\n",
      "dropout_3 (Dropout)          (None, 1, 100)            0         \n",
      "_________________________________________________________________\n",
      "lstm_4 (LSTM)                (None, 100)               80400     \n",
      "_________________________________________________________________\n",
      "dropout_4 (Dropout)          (None, 100)               0         \n",
      "_________________________________________________________________\n",
      "dense_1 (Dense)              (None, 1)                 101       \n",
      "=================================================================\n",
      "Total params: 282,101\n",
      "Trainable params: 282,101\n",
      "Non-trainable params: 0\n",
      "_________________________________________________________________\n"
     ]
    }
   ],
   "source": [
    "regressor.summary()"
   ]
  },
  {
   "cell_type": "code",
   "execution_count": 2909,
   "metadata": {},
   "outputs": [
    {
     "ename": "AttributeError",
     "evalue": "'numpy.ndarray' object has no attribute 'columns'",
     "output_type": "error",
     "traceback": [
      "\u001b[0;31m---------------------------------------------------------------------------\u001b[0m",
      "\u001b[0;31mAttributeError\u001b[0m                            Traceback (most recent call last)",
      "\u001b[0;32m<ipython-input-2909-b9eed9f05392>\u001b[0m in \u001b[0;36m<module>\u001b[0;34m\u001b[0m\n\u001b[0;32m----> 1\u001b[0;31m \u001b[0mX_test\u001b[0m\u001b[0;34m.\u001b[0m\u001b[0mcolumns\u001b[0m\u001b[0;34m\u001b[0m\u001b[0m\n\u001b[0m",
      "\u001b[0;31mAttributeError\u001b[0m: 'numpy.ndarray' object has no attribute 'columns'"
     ]
    }
   ],
   "source": []
  },
  {
   "cell_type": "code",
   "execution_count": 2960,
   "metadata": {},
   "outputs": [],
   "source": [
    "predicted_test = regressor.predict(X_test)"
   ]
  },
  {
   "cell_type": "code",
   "execution_count": 2961,
   "metadata": {},
   "outputs": [
    {
     "data": {
      "image/png": "[encoded data removed]",
      "text/plain": [
       "<Figure size 432x288 with 1 Axes>"
      ]
     },
     "metadata": {
      "needs_background": "light"
     },
     "output_type": "display_data"
    },
    {
     "data": {
      "text/plain": [
       "<Figure size 432x288 with 0 Axes>"
      ]
     },
     "metadata": {},
     "output_type": "display_data"
    }
   ],
   "source": [
    "plt.plot(Y_test, color = 'R', label = 'Real Eur Bid')\n",
    "plt.plot(predicted_test, color = 'B', label = 'Predicted Eur Bid')\n",
    "plt.title('Prediction Eur Bid')\n",
    "plt.xlabel('Time')\n",
    "plt.ylabel('Price')\n",
    "plt.legend()\n",
    "plt.show()\n",
    "plt.savefig('Eur_Bid2.jpg')"
   ]
  },
  {
   "cell_type": "code",
   "execution_count": 2962,
   "metadata": {},
   "outputs": [],
   "source": [
    "predicted = []\n",
    "for k in range(len(predicted_test)):\n",
    "    predicted.append(float(predicted_test[k]))"
   ]
  },
  {
   "cell_type": "code",
   "execution_count": 2963,
   "metadata": {},
   "outputs": [
    {
     "name": "stdout",
     "output_type": "stream",
     "text": [
      "Test Score: 0.47255 RMSE\n"
     ]
    }
   ],
   "source": [
    "# calculate 均方根誤差(root mean squared error)\n",
    "testScore = math.sqrt(mean_squared_error(Y_test, predicted_test))\n",
    "print('Test Score: %.5f RMSE' % (testScore))\n"
   ]
  },
  {
   "cell_type": "code",
   "execution_count": 2964,
   "metadata": {},
   "outputs": [],
   "source": [
    "actual = []\n",
    "predict = []\n",
    "for i in range(len(Y_test)):\n",
    "    actual.append(Y_test[i]*(max_test-min_test)+mean_test)\n",
    "    predict.append(predicted[i]*(max_test-min_test)+mean_test)"
   ]
  },
  {
   "cell_type": "code",
   "execution_count": 2965,
   "metadata": {},
   "outputs": [
    {
     "data": {
      "image/png": "[encoded data removed]",
      "text/plain": [
       "<Figure size 432x288 with 1 Axes>"
      ]
     },
     "metadata": {
      "needs_background": "light"
     },
     "output_type": "display_data"
    },
    {
     "data": {
      "text/plain": [
       "<Figure size 432x288 with 0 Axes>"
      ]
     },
     "metadata": {},
     "output_type": "display_data"
    }
   ],
   "source": [
    "plt.plot(actual, color = 'R', label = 'Real Eur Bid')\n",
    "plt.plot(predict, color = 'B', label = 'Predicted Eur Bid')\n",
    "plt.title('Prediction Eur Bid')\n",
    "plt.xlabel('Time')\n",
    "plt.ylabel('Price')\n",
    "plt.legend()\n",
    "plt.show()\n",
    "plt.savefig('Eur_Bid.jpg')"
   ]
  },
  {
   "cell_type": "code",
   "execution_count": 2966,
   "metadata": {},
   "outputs": [
    {
     "name": "stdout",
     "output_type": "stream",
     "text": [
      "Test Score: 0.47255 RMSE\n"
     ]
    }
   ],
   "source": [
    "# calculate 均方根誤差(root mean squared error)\n",
    "testScore = math.sqrt(mean_squared_error(Y_test, predicted_test))\n",
    "print('Test Score: %.5f RMSE' % (testScore))\n"
   ]
  },
  {
   "cell_type": "code",
   "execution_count": 2967,
   "metadata": {},
   "outputs": [],
   "source": [
    "record.append('Traget:'+str(target)+',pastDay:'+str(pastDay)+',features:'+str(train.columns)+',epcohs:'+str(epochs)+'Test Score'+str(testScore)+'RMSE')"
   ]
  },
  {
   "cell_type": "code",
   "execution_count": 2968,
   "metadata": {},
   "outputs": [
    {
     "data": {
      "text/plain": [
       "[\"Traget:eur_ask,pastDay:1,features:Index(['eur_ask'], dtype='object'),epcohs:50Test Score0.04817650621288781RMSE\",\n",
       " \"Traget:eur_ask,pastDay:1,features:Index(['eur_ask', 'OIL-F', 'GOLD-F', 'EUR-I', 'CBA-EUR'], dtype='object'),epcohs:50Test Score0.05402542266030542RMSE\",\n",
       " \"Traget:eur_ask,pastDay:1,features:Index(['eur_bid', 'eur_ask', 'OIL-F', 'GOLD-F', 'EUR-I', 'CBA-EUR'], dtype='object'),epcohs:50Test Score0.055872887473807906RMSE\",\n",
       " \"Traget:eur_ask,pastDay:1,features:Index(['eur_bid', 'eur_ask'], dtype='object'),epcohs:50Test Score0.04788737733289462RMSE\",\n",
       " \"Traget:eur_ask,pastDay:5,features:Index(['eur_bid', 'eur_ask'], dtype='object'),epcohs:50Test Score0.05209091266127396RMSE\",\n",
       " \"Traget:eur_ask,pastDay:30,features:Index(['eur_bid', 'eur_ask'], dtype='object'),epcohs:50Test Score0.05103020236448031RMSE\",\n",
       " \"Traget:eur_ask,pastDay:1,features:Index(['eur_bid', 'eur_ask', 'EUR-I'], dtype='object'),epcohs:50Test Score0.05310157921386795RMSE\",\n",
       " \"Traget:eur_ask,pastDay:1,features:Index(['eur_bid', 'eur_ask', 'SP500', 'EUR-I'], dtype='object'),epcohs:50Test Score0.05262062254395944RMSE\",\n",
       " \"Traget:eur_ask,pastDay:1,features:Index(['eur_bid', 'eur_ask', 'SP500', 'OIL-F', 'EUR-I', 'CBA-EUR'], dtype='object'),epcohs:50Test Score0.06236454462005545RMSE\",\n",
       " \"Traget:eur_ask,pastDay:5,features:Index(['eur_bid', 'eur_ask'], dtype='object'),epcohs:50Test Score0.05303575104572589RMSE\",\n",
       " \"Traget:eur_ask,pastDay:15,features:Index(['eur_bid', 'eur_ask'], dtype='object'),epcohs:50Test Score0.05231382028852096RMSE\",\n",
       " \"Traget:eur_ask,pastDay:20,features:Index(['eur_bid', 'eur_ask'], dtype='object'),epcohs:50Test Score0.05064789006954792RMSE\",\n",
       " \"Traget:eur_ask,pastDay:60,features:Index(['eur_bid', 'eur_ask'], dtype='object'),epcohs:50Test Score0.04597141326232999RMSE\",\n",
       " \"Traget:eur_ask,pastDay:60,features:Index(['eur_ask'], dtype='object'),epcohs:50Test Score0.048098252017919146RMSE\",\n",
       " \"Traget:eur_bid,pastDay:60,features:Index(['eur_bid', 'eur_ask'], dtype='object'),epcohs:50Test Score0.04599897503488644RMSE\",\n",
       " \"Traget:eur_ask,pastDay:60,features:Index(['eur_bid', 'eur_ask'], dtype='object'),epcohs:50Test Score0.04678325933591082RMSE\",\n",
       " \"Traget:eur_bid,pastDay:60,features:Index(['eur_bid', 'eur_ask'], dtype='object'),epcohs:50Test Score0.049263366668626435RMSE\",\n",
       " \"Traget:eur_bid,pastDay:60,features:Index(['eur_bid', 'eur_ask'], dtype='object'),epcohs:50Test Score0.04811895966483892RMSE\",\n",
       " \"Traget:eur_bid,pastDay:60,features:Index(['eur_bid', 'eur_ask'], dtype='object'),epcohs:50Test Score0.04811895966483892RMSE\",\n",
       " \"Traget:eur_bid,pastDay:60,features:Index(['eur_bid', 'eur_ask'], dtype='object'),epcohs:50Test Score0.04563570514253706RMSE\",\n",
       " \"Traget:eur_bid,pastDay:60,features:Index(['eur_bid', 'eur_ask'], dtype='object'),epcohs:50Test Score0.04563570514253706RMSE\",\n",
       " \"Traget:eur_bid,pastDay:1,features:Index(['eur_bid', 'eur_ask', 'OIL-F', 'EUR-I'], dtype='object'),epcohs:50Test Score0.051585924234198034RMSE\",\n",
       " \"Traget:eur_bid,pastDay:1,features:Index(['eur_bid', 'eur_ask', 'SP500', 'OIL-F', 'EUR-I'], dtype='object'),epcohs:50Test Score0.06929108120720198RMSE\",\n",
       " \"Traget:eur_bid,pastDay:1,features:Index(['eur_bid', 'eur_ask', 'EUR-I'], dtype='object'),epcohs:50Test Score0.051320540840658735RMSE\",\n",
       " \"Traget:eur_bid,pastDay:1,features:Index(['eur_bid', 'eur_ask'], dtype='object'),epcohs:50Test Score0.048019176747782485RMSE\",\n",
       " \"Traget:eur_bid,pastDay:1,features:Index(['eur_bid'], dtype='object'),epcohs:50Test Score0.049076284408746194RMSE\",\n",
       " \"Traget:eur_bid,pastDay:1,features:Index(['EUR-I'], dtype='object'),epcohs:50Test Score0.049076284408746194RMSE\",\n",
       " \"Traget:eur_bid,pastDay:1,features:Index(['EUR-I'], dtype='object'),epcohs:50Test Score0.47254841602626946RMSE\"]"
      ]
     },
     "execution_count": 2968,
     "metadata": {},
     "output_type": "execute_result"
    }
   ],
   "source": [
    "record"
   ]
  },
  {
   "cell_type": "code",
   "execution_count": null,
   "metadata": {},
   "outputs": [],
   "source": []
  },
  {
   "cell_type": "code",
   "execution_count": null,
   "metadata": {},
   "outputs": [],
   "source": []
  },
  {
   "cell_type": "code",
   "execution_count": null,
   "metadata": {},
   "outputs": [],
   "source": []
  },
  {
   "cell_type": "code",
   "execution_count": null,
   "metadata": {},
   "outputs": [],
   "source": []
  },
  {
   "cell_type": "code",
   "execution_count": null,
   "metadata": {},
   "outputs": [],
   "source": []
  }
 ],
 "metadata": {
  "kernelspec": {
   "display_name": "Python 3",
   "language": "python",
   "name": "python3"
  },
  "language_info": {
   "codemirror_mode": {
    "name": "ipython",
    "version": 3
   },
   "file_extension": ".py",
   "mimetype": "text/x-python",
   "name": "python",
   "nbconvert_exporter": "python",
   "pygments_lexer": "ipython3",
   "version": "3.5.2"
  }
 },
 "nbformat": 4,
 "nbformat_minor": 2
}
